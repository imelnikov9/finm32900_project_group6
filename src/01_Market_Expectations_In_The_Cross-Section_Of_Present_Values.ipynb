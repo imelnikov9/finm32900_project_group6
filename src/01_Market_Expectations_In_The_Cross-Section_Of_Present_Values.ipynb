{
 "cells": [
  {
   "cell_type": "markdown",
   "metadata": {},
   "source": [
    "# 01. Market Expectations In The Cross-Section Of Present Values\n",
    "\n",
    "TBD"
   ]
  },
  {
   "cell_type": "code",
   "execution_count": null,
   "metadata": {},
   "outputs": [],
   "source": [
    "import numpy as np\n",
    "import pandas as pd\n",
    "import sys\n",
    "\n",
    "from matplotlib import pyplot as plt\n",
    "from settings import config\n",
    "from pathlib import Path\n",
    "import load_data\n",
    "import regressions\n",
    "import pull_CRSP_index\n",
    "import pull_ken_french_data\n",
    "import pull_fred\n",
    "\n",
    "# Load environment variables\n",
    "DATA_DIR = Path(config(\"DATA_DIR\"))\n",
    "OUTPUT_DIR = Path(config(\"OUTPUT_DIR\"))\n",
    "WRDS_USERNAME = config(\"WRDS_USERNAME\")\n",
    "START_DATE = config(\"START_DATE\")\n",
    "END_DATE = config(\"END_DATE\")"
   ]
  },
  {
   "cell_type": "markdown",
   "metadata": {},
   "source": [
    "## Prep Data\n",
    "\n",
    "### Step 1: Fama-French Data"
   ]
  },
  {
   "cell_type": "code",
   "execution_count": null,
   "metadata": {},
   "outputs": [],
   "source": [
    "from pandas_datareader.famafrench import get_available_datasets\n",
    "import pandas_datareader.data as web\n",
    "\n",
    "get_available_datasets()"
   ]
  },
  {
   "cell_type": "code",
   "execution_count": null,
   "metadata": {},
   "outputs": [],
   "source": [
    "bm_6_portfolios = web.DataReader(\"6_Portfolios_2x3\", \"famafrench\")"
   ]
  },
  {
   "cell_type": "code",
   "execution_count": null,
   "metadata": {},
   "outputs": [],
   "source": [
    "print(bm_6_portfolios['DESCR'])"
   ]
  },
  {
   "cell_type": "code",
   "execution_count": null,
   "metadata": {},
   "outputs": [],
   "source": [
    "bm_6_portfolios[6].head()"
   ]
  },
  {
   "cell_type": "code",
   "execution_count": null,
   "metadata": {},
   "outputs": [],
   "source": []
  },
  {
   "cell_type": "markdown",
   "metadata": {},
   "source": [
    "### Step 2: CRSP Market Capitalization Weighted Index Data"
   ]
  },
  {
   "cell_type": "code",
   "execution_count": null,
   "metadata": {},
   "outputs": [],
   "source": [
    "crsp = pull_CRSP_index.pull_crsp_value_weighted_index()"
   ]
  },
  {
   "cell_type": "code",
   "execution_count": null,
   "metadata": {},
   "outputs": [],
   "source": [
    "crsp_loaded = load_data.load_crsp_index()\n",
    "crsp_loaded"
   ]
  },
  {
   "cell_type": "markdown",
   "metadata": {},
   "source": [
    "### Step 3: Risk-Free Rate Data"
   ]
  },
  {
   "cell_type": "code",
   "execution_count": null,
   "metadata": {},
   "outputs": [],
   "source": [
    "rf = pull_fred.pull_fred()\n",
    "rf"
   ]
  },
  {
   "cell_type": "code",
   "execution_count": null,
   "metadata": {},
   "outputs": [],
   "source": [
    "rf_monthly = load_data.load_fred_data()\n",
    "rf_monthly"
   ]
  },
  {
   "cell_type": "markdown",
   "metadata": {},
   "source": [
    "### Step 4: Excess Returns"
   ]
  },
  {
   "cell_type": "code",
   "execution_count": null,
   "metadata": {},
   "outputs": [],
   "source": [
    "ex_ret = load_data.load_and_compute_excess_returns()\n",
    "ex_ret"
   ]
  },
  {
   "cell_type": "markdown",
   "metadata": {},
   "source": [
    "# Run Regressions"
   ]
  },
  {
   "cell_type": "code",
   "execution_count": null,
   "metadata": {},
   "outputs": [],
   "source": [
    "import importlib\n",
    "importlib.reload(load_data)"
   ]
  },
  {
   "cell_type": "code",
   "execution_count": null,
   "metadata": {},
   "outputs": [],
   "source": [
    "# def regress():\n",
    "#     portfolio_datasets = {\n",
    "#         \"6-Portfolios\": \"6_Portfolios_2x3\",\n",
    "#         \"25-Portfolios\": \"25_Portfolios_5x5\",\n",
    "#         \"100-Portfolios\": \"100_Portfolios_10x10\"\n",
    "#     }\n",
    "#     results = {}\n",
    "#     for label, dataset_name in portfolio_datasets.items():\n",
    "#         print(f\"\\nProcessing {label} Data\")\n",
    "#         in_sample = regressions.run_in_sample_pls(dataset_name, weighting=\"value-weighted\", h=1)\n",
    "#         recursive = regressions.run_recursive_forecast(dataset_name, weighting=\"value-weighted\", h=1)\n",
    "#         regressions.display_results(label, in_sample, recursive)\n",
    "#         results[label] = {\"in_sample\": in_sample, \"recursive\": recursive}\n",
    "#     return results\n",
    "\n",
    "# regress()"
   ]
  },
  {
   "cell_type": "markdown",
   "metadata": {},
   "source": [
    "# Regressions for B/M ratios"
   ]
  },
  {
   "cell_type": "code",
   "execution_count": null,
   "metadata": {},
   "outputs": [],
   "source": [
    "def regress():\n",
    "    portfolio_datasets = {\n",
    "        # \"6-Portfolios\": \"6_Portfolios_2x3\",\n",
    "        # \"25-Portfolios\": \"25_Portfolios_5x5\",\n",
    "        \"100-Portfolios\": \"100_Portfolios_10x10\"\n",
    "    }\n",
    "    results = {}\n",
    "    for label, dataset_name in portfolio_datasets.items():\n",
    "        print(f\"\\nProcessing {label} Data\")\n",
    "        in_sample = regressions.run_in_sample_pls(\n",
    "            dataset_name=dataset_name, \n",
    "            weighting=\"BE_FYt-1_to_ME_June_t\", \n",
    "            h=1, \n",
    "            end_date='1980-01-01')\n",
    "        recursive = regressions.run_recursive_forecast(\n",
    "            dataset_name=dataset_name, \n",
    "            weighting=\"BE_FYt-1_to_ME_June_t\", \n",
    "            h=1, \n",
    "            start_train_date='1934-02-01', \n",
    "            end_train_date='1980-01-01',\n",
    "            end_forecast_date='2011-01-01')\n",
    "        regressions.display_results(label, in_sample, recursive)\n",
    "        results[label] = {\"in_sample\": in_sample, \"recursive\": recursive}\n",
    "    return results\n",
    "\n",
    "regress()"
   ]
  },
  {
   "cell_type": "code",
   "execution_count": null,
   "metadata": {},
   "outputs": [],
   "source": []
  }
 ],
 "metadata": {
  "kernelspec": {
   "display_name": "blank",
   "language": "python",
   "name": "python3"
  },
  "language_info": {
   "name": "python",
   "version": "3.12.9"
  }
 },
 "nbformat": 4,
 "nbformat_minor": 4
}
